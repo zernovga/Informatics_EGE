{
 "cells": [
  {
   "attachments": {},
   "cell_type": "markdown",
   "metadata": {},
   "source": [
    "№ 7624 Досрочная волна 2023 (Уровень: Базовый)\n",
    "\n",
    "Текстовый файл состоит из прописных символов латинских букв.\n",
    "\n",
    "Определите максимальное количество подряд идущих символов в прилагаемом файле, среди которых не содержится два символа из набора букв X, Y и Z (с учётом повторений), стоящих рядом.\n",
    "\n",
    "Для выполнения этого задания следует написать программу."
   ]
  },
  {
   "cell_type": "code",
   "execution_count": null,
   "metadata": {},
   "outputs": [],
   "source": [
    "with open('24_7624.txt') as f:\n",
    "    s = f.readline()\n",
    "\n",
    "    "
   ]
  }
 ],
 "metadata": {
  "language_info": {
   "name": "python"
  },
  "orig_nbformat": 4
 },
 "nbformat": 4,
 "nbformat_minor": 2
}
