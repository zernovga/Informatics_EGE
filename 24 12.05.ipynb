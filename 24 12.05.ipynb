{
 "cells": [
  {
   "attachments": {},
   "cell_type": "markdown",
   "metadata": {},
   "source": [
    "**№ 7624 Досрочная волна 2023 (Уровень: Базовый)**\n",
    "Текстовый файл состоит из прописных символов латинских букв.\n",
    "\n",
    "Определите максимальное количество подряд идущих символов в прилагаемом файле, среди которых не содержится два символа из набора букв X, Y и Z (с учётом повторений), стоящих рядом.\n",
    "\n",
    "Для выполнения этого задания следует написать программу."
   ]
  },
  {
   "cell_type": "code",
   "execution_count": 6,
   "metadata": {},
   "outputs": [
    {
     "name": "stdout",
     "output_type": "stream",
     "text": [
      "DBXHKQDWADCLETJPTLCXEKGDOTDGTNUIQQPRKDOWZUQMSLIBFRO.YJQDSTFUFSYPYADWIOBLMZRLUJXIYEGVASMKRRXJVWCRWEXI\n",
      "['DBXHKQDWADCLETJPTLCXEKGDOTDGTNUIQQPRKDOWZUQMSLIBFRO', 'YJQDSTFUFSYPYADWIOBLMZRLUJXIYEGVASMKRRXJVWCRWEXIUHGJMNASRPOOQGNYOCABDIGNKPROJWFVTFIOCSAGDIKFUFFHSMBJJLXRKH', 'PTJESOZOWTP']\n",
      "786\n"
     ]
    }
   ],
   "source": [
    "f = open('24_7624.txt').readline()\n",
    "\n",
    "a = ['XX', 'YY', 'ZZ', 'XY', 'XZ', 'YZ', 'YX', 'ZX', 'ZY']\n",
    "\n",
    "for l in a:\n",
    "    f = f.replace(l, '.')\n",
    "\n",
    "print(f[:100])\n",
    "\n",
    "f = f.split('.')\n",
    "\n",
    "print(f[:3])\n",
    "\n",
    "m = len(f[0]) + 1\n",
    "for s in f:\n",
    "    m = max(m, len(s)+2)\n",
    "\n",
    "print(m)"
   ]
  },
  {
   "attachments": {},
   "cell_type": "markdown",
   "metadata": {},
   "source": [
    "\t\n",
    "**№ 7723 (Уровень: Базовый)\n",
    "(Грачев Н.)** Текстовый файл состоит из символов D, R и цифр 1, 8.\n",
    "\n",
    "Определите максимальное количество идущих подряд троек символов вида **двузначное число + буква** в прилагаемом файле.\n",
    "\n",
    "Для выполнения этого задания следует написать программу."
   ]
  },
  {
   "cell_type": "code",
   "execution_count": 17,
   "metadata": {},
   "outputs": [
    {
     "name": "stdout",
     "output_type": "stream",
     "text": [
      "67\n"
     ]
    }
   ],
   "source": [
    "s = open('24_7723.txt').readline()\n",
    "\n",
    "# s = '18DR18D18D'\n",
    "\n",
    "m = 0\n",
    "for j in range(0, len(s) - 2):\n",
    "    if s[j] in '18' and s[j+1] in '18' and s[j+2] in 'DR':\n",
    "        c = 0\n",
    "        for i in range(j, len(s) - 2, 3):\n",
    "            if s[i] in '18' and s[i+1] in '18' and s[i+2] in 'DR':\n",
    "                c += 1\n",
    "            else:\n",
    "                break\n",
    "    m = max(m, c)\n",
    "print(m)"
   ]
  },
  {
   "attachments": {},
   "cell_type": "markdown",
   "metadata": {},
   "source": [
    "\t\n",
    "**№ 7853 Danov2304 (Уровень: Сложный)\n",
    "(А.Богданов)** Текстовый файл состоит из символов латинского алфавита и десятичных цифр. Определите максимальное количество идущих подряд символов, среди которых любые два символа из набора **N,O,T** в различных комбинациях(с учётом повторений) не стоят через один символ (который может быть любым). Например, ТEN или NUТ не могут быть в искомой подстроке."
   ]
  },
  {
   "cell_type": "code",
   "execution_count": 38,
   "metadata": {},
   "outputs": [
    {
     "name": "stdout",
     "output_type": "stream",
     "text": [
      "1461\n"
     ]
    }
   ],
   "source": [
    "# s = 'aassdg'\n",
    "\n",
    "s = open('24_7853.txt').readline()\n",
    "\n",
    "m = c = 0\n",
    "for i in range(0, len(s) - 2):\n",
    "    if s[i] in 'NOT' and s[i+2] in 'NOT':\n",
    "        if c > 0:\n",
    "            m = max(m, c + 2)\n",
    "        c = 0\n",
    "    else:\n",
    "        c += 1\n",
    "    # if i + 3 == len(s): c += 2\n",
    "    m = max(m, c)\n",
    "print(m)"
   ]
  },
  {
   "cell_type": "markdown",
   "metadata": {},
   "source": [
    "\t\n",
    "**№ 8431 (Уровень: Средний)**\n",
    "Шифровка содержит только заглавные буквы латинского алфавита (ABC…Z). Группа из трёх идущих подряд символов, содержащая по одному разу каждую из букв A, B и C, считается разделителем. Разделители могут накладываться друг на друга, например, последовательность символов BCABC считается идущими подряд разделителями BCA, CAB и ABC.\n",
    "При дешифровке разделители удаляются, разбивая шифровку на фрагменты.\n",
    "\n",
    "Определите количество символов в самом длинном фрагменте шифровки, полученном после удаления разделителей.\n",
    "\n",
    "Пример\n",
    "\n",
    "Пусть шифровка содержит такие символы:\n",
    "\n",
    "BADCBACKLMENBCAAA.\n",
    "\n",
    "Разделители в этой строке выделены жирным шрифтом. Шифровка содержит три фрагмента: BAD, KLMEN и AA. Самый длинный из них содержит 5 символов, в ответе в данном примере надо записать число 5."
   ]
  },
  {
   "cell_type": "code",
   "execution_count": 4,
   "metadata": {},
   "outputs": [],
   "source": [
    "# s = open('24_8431.txt').readline()\n",
    "s = 'BADCBACKLMENBCAAAKLMEN'\n",
    "\n",
    "razd = ['ABC', 'ACB', 'BAC', 'BCA', 'CAB', 'CBA']\n",
    "\n",
    "i = 0\n",
    "while i < len(s) - 2:\n",
    "    if s[i:i+3] in razd:\n",
    "        i += 1\n",
    "        for j in range(i, len(s)-2):\n",
    "            "
   ]
  },
  {
   "cell_type": "code",
   "execution_count": 3,
   "metadata": {},
   "outputs": [
    {
     "data": {
      "text/plain": [
       "True"
      ]
     },
     "execution_count": 3,
     "metadata": {},
     "output_type": "execute_result"
    }
   ],
   "source": [
    "set('abca') == {'a', 'b', 'c'}"
   ]
  }
 ],
 "metadata": {
  "kernelspec": {
   "display_name": "Python 3",
   "language": "python",
   "name": "python3"
  },
  "language_info": {
   "codemirror_mode": {
    "name": "ipython",
    "version": 3
   },
   "file_extension": ".py",
   "mimetype": "text/x-python",
   "name": "python",
   "nbconvert_exporter": "python",
   "pygments_lexer": "ipython3",
   "version": "3.10.6"
  },
  "orig_nbformat": 4
 },
 "nbformat": 4,
 "nbformat_minor": 2
}
