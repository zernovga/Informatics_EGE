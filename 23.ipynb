{
 "cells": [
  {
   "attachments": {},
   "cell_type": "markdown",
   "metadata": {},
   "source": [
    "**№ 7042 Danov2303 (Уровень: Сложный)\n",
    "(А.Богданов)** Исполнитель Персевер преобразует число, записанное на экране. У исполнителя есть три команды, которым присвоены номера:\n",
    "\n",
    "1. Прибавить 1\n",
    "2. Прибавить 3\n",
    "3. Прибавить 7\n",
    "\n",
    "У исполнителя отказал перенос десятков в следующий разряд и все разряды, кроме младшего, всегда остаются равными нулю. Программа для исполнителя – это последовательность команд. Сколько существует программ, для которых при исходном числе 1 результатом будет являться число 1, при этом траектория вычисления может содержать только числа от 0 до 9, притом каждое число встречается в траектории не более одного раза."
   ]
  },
  {
   "cell_type": "code",
   "execution_count": 1,
   "metadata": {},
   "outputs": [
    {
     "name": "stdout",
     "output_type": "stream",
     "text": [
      "1 1 [] True\n",
      "2 1 [1] False\n",
      "3 1 [1, 2] False\n",
      "4 1 [1, 2, 3] False\n",
      "5 1 [1, 2, 3, 4] False\n",
      "6 1 [1, 2, 3, 4, 5] False\n",
      "7 1 [1, 2, 3, 4, 5, 6] False\n",
      "8 1 [1, 2, 3, 4, 5, 6, 7] False\n",
      "9 1 [1, 2, 3, 4, 5, 6, 7, 8] False\n",
      "0 1 [1, 2, 3, 4, 5, 6, 7, 8, 9] False\n",
      "1 1 [1, 2, 3, 4, 5, 6, 7, 8, 9, 0] True\n",
      "1 1 [1, 2, 3, 4, 5, 6, 7, 8, 9, 0] True\n",
      "1 1 [1, 2, 3, 4, 5, 6, 7, 8, 9, 0] True\n"
     ]
    },
    {
     "data": {
      "text/plain": [
       "3"
      ]
     },
     "execution_count": 1,
     "metadata": {},
     "output_type": "execute_result"
    }
   ],
   "source": [
    "def f(n, k, t):\n",
    "    print(n, k, t, n == k)\n",
    "    if n == k and len(t) > 1:\n",
    "        return 1\n",
    "    else:\n",
    "        m = 0\n",
    "        t += [n]\n",
    "        if (n+1) % 10 not in t[1:]:\n",
    "            m += f((n+1) % 10, k, t)\n",
    "            # m += f(sum([int(i) for i in str(n+1)]), k, t)\n",
    "        if (n+3) % 10 not in t[1:]:\n",
    "            m += f((n+3) % 10, k, t)\n",
    "            # m += f(sum([int(i) for i in str(n+3)]), k, t)\n",
    "        if (n+7) % 10 not in t[1:]:\n",
    "            m += f((n+7) % 10, k, t)\n",
    "            # m += f(sum([int(i) for i in str(n+7)]), k, t)\n",
    "\n",
    "        return m\n",
    "\n",
    "f(1, 1, [])"
   ]
  },
  {
   "attachments": {},
   "cell_type": "markdown",
   "metadata": {},
   "source": [
    "\t\n",
    "**№ 5937 (Уровень: Сложный)\n",
    "(Д. Статный)** Исполнитель Калькулятор преобразует число, записанное на экране. У исполнителя есть три команды, которым присвоены номера:\n",
    "\n",
    "А. Прибавить 2.\n",
    "\n",
    "Б. Прибавить 3.\n",
    "\n",
    "С. Умножить на 2 и прибавить 1.\n",
    "\n",
    "Первая команда увеличивает на 2, вторая – увеличивает на 3, третья – умножает на 2 и увеличивает на 1. Сколько существует таких программ, которые исходное число 1 преобразуют в число 55, и при этом траектория содержит не более 15-х чётных чисел."
   ]
  },
  {
   "cell_type": "code",
   "execution_count": 2,
   "metadata": {},
   "outputs": [
    {
     "data": {
      "text/plain": [
       "4197234"
      ]
     },
     "execution_count": 2,
     "metadata": {},
     "output_type": "execute_result"
    }
   ],
   "source": [
    "def f(n, k, ch):\n",
    "    ch += (n % 2 == 0)\n",
    "    if n == k:\n",
    "        return 1\n",
    "    elif n > k or ch > 15:\n",
    "        return 0\n",
    "    else:\n",
    "        return f(n+2, k, ch) + f(n+3, k, ch) + f(n*2+1, k, ch)\n",
    "    \n",
    "f(1, 55, 0)"
   ]
  },
  {
   "attachments": {},
   "cell_type": "markdown",
   "metadata": {},
   "source": [
    "**№ 5837 (Уровень: Сложный)\n",
    "(Д. Статный)** Исполнитель Калькулятор преобразует число, записанное на экране. У исполнителя есть три команды, которым присвоены номера:\n",
    "\n",
    "А. Прибавить младший разряд числа.\n",
    "\n",
    "Б. Умножить на старший разряд числа.\n",
    "\n",
    "С. Умножить на 2 и прибавить сумму цифр числа.\n",
    "\n",
    "Первая команда увеличивает число на младший разряд числа, вторая – умножает на старший разряд числа, третья – умножает на 2 и прибавляет сумму цифр числа. Каждая команда изменяет число. Сколько существует таких программ, которые исходное число 10 преобразуют в число 4096?"
   ]
  },
  {
   "cell_type": "code",
   "execution_count": 2,
   "metadata": {},
   "outputs": [
    {
     "ename": "",
     "evalue": "",
     "output_type": "error",
     "traceback": [
      "\u001b[1;31mCanceled future for execute_request message before replies were done"
     ]
    },
    {
     "ename": "",
     "evalue": "",
     "output_type": "error",
     "traceback": [
      "\u001b[1;31mThe Kernel crashed while executing code in the the current cell or a previous cell. Please review the code in the cell(s) to identify a possible cause of the failure. Click <a href='https://aka.ms/vscodeJupyterKernelCrash'>here</a> for more info. View Jupyter <a href='command:jupyter.viewOutput'>log</a> for further details."
     ]
    }
   ],
   "source": [
    "from sys import setrecursionlimit\n",
    "\n",
    "setrecursionlimit(20000)\n",
    "\n",
    "def f(n):\n",
    "    if n == 4096:\n",
    "        return 1\n",
    "    elif n > 4096:\n",
    "        return 0\n",
    "    else:\n",
    "        if n % 10 == 0:\n",
    "           return f(n * int(str(n)[0])) + \\\n",
    "                  f(2 * n + sum([int(i) for i in str(n)])) \n",
    "        else:\n",
    "            return f(n+(n % 10)) + \\\n",
    "                    f(n * int(str(n)[0])) + \\\n",
    "                    f(2 * n + sum([int(i) for i in str(n)]))\n",
    "\n",
    "f(10)"
   ]
  },
  {
   "cell_type": "code",
   "execution_count": 10,
   "metadata": {},
   "outputs": [
    {
     "name": "stdout",
     "output_type": "stream",
     "text": [
      "49340685\n"
     ]
    }
   ],
   "source": [
    "m = [0] * 5000\n",
    "m[10] = 1\n",
    "\n",
    "for n in range(10, len(m)):\n",
    "    i = n + n % 10\n",
    "    if i != n and i < len(m):\n",
    "        m[i] += m[n]\n",
    "\n",
    "    i = n * int(str(n)[0])\n",
    "    if i != n and i < len(m):\n",
    "        m[i] += m[n]\n",
    "\n",
    "    i = 2 * n + sum([int(i) for i in str(n)])\n",
    "    if i < len(m):\n",
    "        m[i] += m[n]\n",
    "\n",
    "    # print(m)\n",
    "\n",
    "print(m[4096])"
   ]
  },
  {
   "attachments": {},
   "cell_type": "markdown",
   "metadata": {},
   "source": [
    "**№ 5837 (Уровень: Сложный)\n",
    "(Д. Статный)** Исполнитель Калькулятор преобразует число, записанное на экране. У исполнителя есть три команды, которым присвоены номера:\n",
    "\n",
    "А. Прибавить младший разряд числа.\n",
    "\n",
    "Б. Умножить на старший разряд числа.\n",
    "\n",
    "С. Умножить на 2 и прибавить сумму цифр числа.\n",
    "\n",
    "Первая команда увеличивает число на младший разряд числа, вторая – умножает на старший разряд числа, третья – умножает на 2 и прибавляет сумму цифр числа. Каждая команда изменяет число. Сколько существует таких программ, которые исходное число 10 преобразуют в число 4096?"
   ]
  },
  {
   "cell_type": "code",
   "execution_count": 12,
   "metadata": {},
   "outputs": [
    {
     "name": "stdout",
     "output_type": "stream",
     "text": [
      "49340685\n"
     ]
    }
   ],
   "source": [
    "m = [0] * 4097\n",
    "\n",
    "m[10] = 1\n",
    "for n in range(10, len(m)):\n",
    "    i = n + n % 10\n",
    "    if i < len(m) and n != i:\n",
    "        m[i] += m[n]\n",
    "\n",
    "    i = n * int(str(n)[0])\n",
    "    if i < len(m) and n != i:\n",
    "        m[i] += m[n]\n",
    "\n",
    "    i = 2 * n + sum([int(i) for i in str(n)])\n",
    "    if i < len(m) and n != i:\n",
    "        m[i] += m[n]\n",
    "\n",
    "print(m[4096])"
   ]
  },
  {
   "attachments": {},
   "cell_type": "markdown",
   "metadata": {},
   "source": [
    "**№ 5236 (Уровень: Сложный)**\n",
    "Исполнитель преобразует число, записанное на экране. У исполнителя есть три команды, которым присвоены номера:\n",
    "\n",
    "1. Прибавь 2\n",
    "\n",
    "2. Умножь на 3\n",
    "\n",
    "3. Умножь на 4\n",
    "\n",
    "Выполняя первую из них, исполнитель увеличивает число на экране на 3, выполняя вторую – умножает на 3, выполняя третью – умножает на 4. Программой для исполнителя называется последовательность команд. Сколько существует различных программ, которые преобразуют исходное число 2 в число 400, и при этом траектория вычислений содержит более 50 различных чисел (без учёта начального и конечного)?"
   ]
  },
  {
   "cell_type": "code",
   "execution_count": 16,
   "metadata": {},
   "outputs": [
    {
     "name": "stdout",
     "output_type": "stream",
     "text": [
      "6142\n"
     ]
    }
   ],
   "source": [
    "def f(n, m):\n",
    "    if n == 400 and len(m) > 51:\n",
    "        return 1\n",
    "    elif n > 400 or n == 400 and len(m) <= 51:\n",
    "        return 0\n",
    "    else:\n",
    "        return f(n + 2, m + [n+2]) + f(n * 3, m + [n*3]) + f(n * 4, m + [n*4])\n",
    "    \n",
    "print(f(2, []))"
   ]
  },
  {
   "attachments": {},
   "cell_type": "markdown",
   "metadata": {},
   "source": [
    "**№ 5762 (Уровень: Сложный)\n",
    "(Д. Тараскин)** Исполнитель преобразует число на экране с помощью трех команд, которым присвоены номера:\n",
    "\n",
    "1. Прибавить 2\n",
    "\n",
    "2. Прибавить 3\n",
    "3. Умножить на 3\n",
    "\n",
    "Если после выполнения одной из команд получилось число, являющееся *полным квадратом, то начисляется штрафной балл и получившееся число уменьшается на 1*. При каком числе штрафных баллов количество программ для преобразования числа *5 в число 50* будет максимальным? В качестве ответа укажите это количество программ."
   ]
  },
  {
   "cell_type": "code",
   "execution_count": 29,
   "metadata": {},
   "outputs": [
    {
     "name": "stdout",
     "output_type": "stream",
     "text": [
      "0 21471\n",
      "1 83401\n",
      "2 130771\n",
      "3 130771\n",
      "4 130771\n",
      "5 130771\n"
     ]
    }
   ],
   "source": [
    "def f(n, p, P):\n",
    "    if (n ** (1/2)) % 1 == 0:\n",
    "        p += 1\n",
    "        n -= 1\n",
    "    if n == 50 and p == P:\n",
    "        return 1\n",
    "    elif n > 50 or n == 50 and p != P:\n",
    "        return 0\n",
    "    else:\n",
    "        return f(n+2, p, P) + f(n+3, p, P) + f(n * 3, p, P)\n",
    "\n",
    "m = 0\n",
    "for P in range(6):\n",
    "    m = max(m, f(5, 0, P))\n",
    "    print(P, m)"
   ]
  },
  {
   "attachments": {},
   "cell_type": "markdown",
   "metadata": {},
   "source": [
    "\t\n",
    "**№ 4952 (Уровень: Сложный)\n",
    "(М. Шагитов)** Исполнитель преобразует число, записанное на экране. У исполнителя есть три команды, которым присвоены номера:\n",
    "\n",
    "1. Прибавь 2\n",
    "2. Умножь на 3\n",
    "3. Умножь на 4\n",
    "\n",
    "Выполняя первую из них, исполнитель увеличивает число на экране на 3, выполняя вторую – умножает на 3, выполняя третью – умножает на 4. Программой для исполнителя называется последовательность команд. \n",
    "\n",
    "Сколько существует различных программ, которые преобразуют исходное число 1 в число 600, и при этом траектория вычислений содержит три подряд идущих числа, сумма которых кратна 11."
   ]
  },
  {
   "cell_type": "code",
   "execution_count": 3,
   "metadata": {},
   "outputs": [
    {
     "data": {
      "text/plain": [
       "58085"
      ]
     },
     "execution_count": 3,
     "metadata": {},
     "output_type": "execute_result"
    }
   ],
   "source": [
    "def f(n, t, flag):\n",
    "    if len(t) > 2:\n",
    "        if sum(t[-3:]) % 11 == 0:\n",
    "            flag = True\n",
    "    if n == 600 and flag:\n",
    "        return 1\n",
    "    elif n > 600 or n == 600 and not flag:\n",
    "        return 0\n",
    "    else:\n",
    "        # t += [n]\n",
    "        return f(n+2, t + [n+2], flag) + f(n*3, t + [n*3], flag) + f(n*4, t+[n*4], flag)\n",
    "    \n",
    "f(1, [1], False)"
   ]
  },
  {
   "attachments": {},
   "cell_type": "markdown",
   "metadata": {},
   "source": [
    "**№ 4502 (Уровень: Сложный)**\n",
    "(С.С. Поляков) У исполнителя Калькулятор есть три команды, которым присвоены номера:\n",
    "\n",
    "1. Прибавить 1\n",
    "2. Прибавить 2\n",
    "3. Умножить на 2\n",
    "\n",
    "Сколько разных чисел на отрезке [34, 59] может быть получено из числа 1 с помощью программ, состоящих из 6 команд?"
   ]
  },
  {
   "cell_type": "code",
   "execution_count": 7,
   "metadata": {},
   "outputs": [
    {
     "data": {
      "text/plain": [
       "11"
      ]
     },
     "execution_count": 7,
     "metadata": {},
     "output_type": "execute_result"
    }
   ],
   "source": [
    "def f(n, t):\n",
    "    if 34 <= n <= 59 and t == 6:\n",
    "        return [n]\n",
    "    elif n > 59 or t > 6:\n",
    "        return []\n",
    "    else:\n",
    "        return f(n+1, t+1) + f(n+2, t+1) + f(n*2, t+1)\n",
    "    \n",
    "len(set(f(1, 0)))"
   ]
  }
 ],
 "metadata": {
  "kernelspec": {
   "display_name": "Python 3",
   "language": "python",
   "name": "python3"
  },
  "language_info": {
   "codemirror_mode": {
    "name": "ipython",
    "version": 3
   },
   "file_extension": ".py",
   "mimetype": "text/x-python",
   "name": "python",
   "nbconvert_exporter": "python",
   "pygments_lexer": "ipython3",
   "version": "3.10.6"
  },
  "orig_nbformat": 4
 },
 "nbformat": 4,
 "nbformat_minor": 2
}
