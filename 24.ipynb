{
 "cells": [
  {
   "attachments": {},
   "cell_type": "markdown",
   "metadata": {},
   "source": [
    "№ 7624 Досрочная волна 2023 (Уровень: Базовый)\n",
    "\n",
    "Текстовый файл состоит из прописных символов латинских букв.\n",
    "\n",
    "Определите максимальное количество подряд идущих символов в прилагаемом файле, среди которых не содержится два символа из набора букв X, Y и Z (с учётом повторений), стоящих рядом.\n",
    "\n",
    "Для выполнения этого задания следует написать программу."
   ]
  },
  {
   "cell_type": "code",
   "execution_count": 5,
   "metadata": {},
   "outputs": [
    {
     "name": "stdout",
     "output_type": "stream",
     "text": [
      "786\n"
     ]
    }
   ],
   "source": [
    "with open('24_7624.txt') as f:\n",
    "    s = f.readline()\n",
    "\n",
    "    k = 0 \n",
    "    m = 0\n",
    "    for i, a in enumerate(s):\n",
    "        if a in 'XYZ':\n",
    "            if i > 0 and s[i-1] in 'XYZ':\n",
    "                m = max(m, k)\n",
    "                k = 0\n",
    "        k += 1\n",
    "\n",
    "    print(m)"
   ]
  },
  {
   "attachments": {},
   "cell_type": "markdown",
   "metadata": {},
   "source": [
    "\t\n",
    "№ 7356 (Уровень: Средний)\n",
    "(Л. Шастин) Текстовый файл состоит из символов A, C, D, F и O. \n",
    "\n",
    "Определите максимальное количество идущих подряд символов, среди которых не более 5 пар вида \n",
    "\n",
    "согласная + гласная  в прилагаемом файле. \n",
    "\n",
    "Для выполнения этого задания следует написать программу."
   ]
  },
  {
   "cell_type": "code",
   "execution_count": 9,
   "metadata": {},
   "outputs": [
    {
     "name": "stdout",
     "output_type": "stream",
     "text": [
      "23\n"
     ]
    }
   ],
   "source": [
    "with open('24_7356.txt') as f:\n",
    "    s = f.readline()\n",
    "\n",
    "    n = 0 # кол-во пар\n",
    "    k = 0 #длина подстроки\n",
    "    m = 0 #максимальное значение\n",
    "\n",
    "    for i, a in enumerate(s):\n",
    "        if a in 'AO':\n",
    "            if i > 0 and s[i-1] in 'CDF':\n",
    "                n += 1\n",
    "                if n == 6:\n",
    "                    m = max(m, k-1)\n",
    "                    k = 1\n",
    "                    n = 1\n",
    "        k += 1\n",
    "\n",
    "    print(m)"
   ]
  },
  {
   "cell_type": "code",
   "execution_count": 34,
   "metadata": {},
   "outputs": [
    {
     "name": "stdout",
     "output_type": "stream",
     "text": [
      "27\n"
     ]
    }
   ],
   "source": [
    "with open('24_7356.txt') as f:\n",
    "    s = f.readline()\n",
    "\n",
    "    s = s.replace('CA', '.').replace('DA', '.').replace('FA', '.').replace('CO', '.').replace('DO', '.').replace('FO', '.')\n",
    "\n",
    "    m = 0\n",
    "    for i in range(len(s)):\n",
    "        k = 0\n",
    "        n = 0\n",
    "        for j in range(i, len(s)):\n",
    "            if s[j] == '.':\n",
    "                n += 1\n",
    "            k += 1\n",
    "            if n == 6:\n",
    "                break\n",
    "\n",
    "        m = max(m, k + 6)\n",
    "\n",
    "    print(m)"
   ]
  },
  {
   "attachments": {},
   "cell_type": "markdown",
   "metadata": {},
   "source": [
    "\t\n",
    "№ 5444 Джобс 21.12.22 (Уровень: Средний)\n",
    "Текстовый файл содержит строку из символов A, B, C, D, E, F.\n",
    "\n",
    "Найдите максимальную длину подстроки, которая состоит из подряд идущих троек одинаковых символов.\n",
    "\n",
    "\n",
    "Например, в строке BBCDDDEEEFGGGEEEDDDDKKK такая подстрока GGGEEEDDD. Следовательно, ответ будет 9."
   ]
  },
  {
   "cell_type": "code",
   "execution_count": 42,
   "metadata": {},
   "outputs": [
    {
     "name": "stdout",
     "output_type": "stream",
     "text": [
      "15\n"
     ]
    }
   ],
   "source": [
    "s = open('24_5444.txt').readline()\n",
    "\n",
    "l = ['AAA', 'BBB', 'CCC', 'DDD', 'EEE', 'FFF', 'GGG']\n",
    "\n",
    "m = 0\n",
    "\n",
    "for j in range(i, len(s) - 2):\n",
    "    if s[j:j+3] in l:\n",
    "        # print(s[j:j+3])\n",
    "        n = 1\n",
    "        for k in range(j+3, len(s) - 2, 3):\n",
    "            if s[k:k+3] in l:\n",
    "                # print(s[k:k+3])\n",
    "                n += 1\n",
    "            else:\n",
    "                break\n",
    "        m = max(m, n)\n",
    "\n",
    "print(3 * m)"
   ]
  },
  {
   "attachments": {},
   "cell_type": "markdown",
   "metadata": {},
   "source": [
    "№ 6275 Danov2302 (Уровень: Сложный)\n",
    "\n",
    "(А.Богданов) Текстовый файл содержит строку из десятичных цифр и букв латинского алфавита. Найдите минимальную длину подстроки включающей все шестнадцатеричные цифры. Строка может включать повторяющиеся цифры и другие символы. В ответе укажите найденную длину."
   ]
  },
  {
   "cell_type": "code",
   "execution_count": 53,
   "metadata": {},
   "outputs": [
    {
     "name": "stdout",
     "output_type": "stream",
     "text": [
      "42\n"
     ]
    }
   ],
   "source": [
    "s = open('24_6275.txt').readline()\n",
    "\n",
    "l = '0123456789ABCDEF'\n",
    "\n",
    "m = len(s)\n",
    "for i in range(len(s)):\n",
    "    if s[i] in l:\n",
    "        l1 = s[i]\n",
    "        k = 1\n",
    "        for j in range(i+1, len(s)):\n",
    "            k += 1\n",
    "            if s[j] in l and s[j] not in l1:\n",
    "                l1 += s[j]\n",
    "            if len(l1) == 16 or k == m:\n",
    "                break\n",
    "        if len(l1) == 16:\n",
    "            m = min(m, k)\n",
    "\n",
    "print(m)"
   ]
  },
  {
   "attachments": {},
   "cell_type": "markdown",
   "metadata": {},
   "source": [
    "\t\n",
    "№ 7624 Досрочная волна 2023 (Уровень: Базовый)\n",
    "\n",
    "Текстовый файл состоит из прописных символов латинских букв.\n",
    "\n",
    "Определите максимальное количество подряд идущих символов в прилагаемом файле, среди которых не содержится два символа из набора букв X, Y и Z (с учётом повторений), стоящих рядом.\n",
    "\n",
    "Для выполнения этого задания следует написать программу."
   ]
  },
  {
   "cell_type": "code",
   "execution_count": 9,
   "metadata": {},
   "outputs": [
    {
     "name": "stdout",
     "output_type": "stream",
     "text": [
      "786\n"
     ]
    }
   ],
   "source": [
    "s = open('24_7624.txt').readline()\n",
    "\n",
    "for i in 'XYZ':\n",
    "    for j in 'XYZ':\n",
    "        s = s.replace(i+j, ' ')\n",
    "\n",
    "s = s.split()\n",
    "\n",
    "print(\n",
    "    max([len(i) for i in s]) + 2\n",
    ")\n",
    "\n",
    "#повезло что работает правильно!"
   ]
  },
  {
   "attachments": {},
   "cell_type": "markdown",
   "metadata": {},
   "source": [
    "\t\n",
    "№ 7012 (Уровень: Средний)\n",
    "\n",
    "Текстовый файл состоит не более чем из 106 символов и содержит только заглавные буквы латинского алфавита (ABC…Z) и десятичные цифры. Файл разбит на строки различной длины. Определите количество строк, в которых встречается сочетание букв QWERTY, полученные путем удаления лишних символов без перестановок.\n",
    "\n",
    "Пример:\n",
    "\n",
    "Пусть в файле находится 3 строки:\n",
    "\n",
    " QW1ERTY5EEQW\n",
    "\n",
    "TTERTTYFF\n",
    "\n",
    "Q6W6EHRHTHYR\n",
    "\n",
    "Здесь можно получить сочетания QWERTY путем удаления лишних символов без перестановок в двух строках. "
   ]
  },
  {
   "cell_type": "code",
   "execution_count": 43,
   "metadata": {},
   "outputs": [
    {
     "name": "stdout",
     "output_type": "stream",
     "text": [
      "4574\n"
     ]
    }
   ],
   "source": [
    "s = open('24_7012.txt').readlines()\n",
    "\n",
    "qwerty = 'QWERTY'\n",
    "\n",
    "ans = 0\n",
    "\n",
    "for l in s:\n",
    "    i = -1\n",
    "    l1 = l\n",
    "    for j in range(0, len(qwerty)):\n",
    "        i = l1.find(qwerty[j])\n",
    "        if i < 0:\n",
    "            break\n",
    "        l1 = l1[i+1:]\n",
    "    else:\n",
    "        ans += 1\n",
    "\n",
    "print(ans)"
   ]
  },
  {
   "cell_type": "code",
   "execution_count": 47,
   "metadata": {},
   "outputs": [
    {
     "name": "stdout",
     "output_type": "stream",
     "text": [
      "4574\n"
     ]
    }
   ],
   "source": [
    "import fnmatch\n",
    "\n",
    "s = open('24_7012.txt').readlines()\n",
    "\n",
    "ans = 0\n",
    "for l in s:\n",
    "    if fnmatch.fnmatch(l, '*Q*W*E*R*T*Y*'): ans += 1\n",
    "print(ans)"
   ]
  },
  {
   "attachments": {},
   "cell_type": "markdown",
   "metadata": {},
   "source": [
    "№ 5746 (Уровень: Сложный)\n",
    "\n",
    "(Д. Тараскин) Дана строка длиной менее 106 символов, состоящая из заглавных букв латинского алфавита. Будем называть подстрокой-лесенкой такую подстроку, в которой буквы чередуются следующим образом АBBCCCAAAADDDDD и т.д. Иными словами, первая буква записана один раз, вторая дублируется дважды, третья - трижды и т.д. Буквы соседних \"ступеней\" лесенки должны отличаться, но могут повторятся в пределах подстроки. Укажите длину самой длинной подстроки-лесенки. Обратите внимание, что лесенки могут идти как друг за другом, так и частично друг на друга накладываться.\n",
    "\n",
    "В строке ABBCCCABBCCC - 2 лесенки идут друг за другом\n",
    "\n",
    "В строке ABBCCCDDBBBCCCC - 2 лесенки - конец одной лесенки ABBCCC совпадает с началом другой CDDBBBCCCC\n",
    "\n",
    "В строке AABBCCCCCCCCCCDDEEEEEEE - тоже 2 лесенки ABBCCC и CDDEEE"
   ]
  },
  {
   "cell_type": "code",
   "execution_count": 8,
   "metadata": {},
   "outputs": [
    {
     "name": "stdout",
     "output_type": "stream",
     "text": [
      "276\n"
     ]
    }
   ],
   "source": [
    "s = open('24_5746.txt').readline()\n",
    "# s = 'ABBCCCDDBBBCCCC'\n",
    "\n",
    "def f(a, s):\n",
    "    i = 0\n",
    "    while s[i] == a:\n",
    "        i += 1\n",
    "        if i == len(s):\n",
    "            break\n",
    "    return i\n",
    "\n",
    "m = 0\n",
    "for i in range(len(s)-1):\n",
    "    s1 = s[i:]\n",
    "    n = 0\n",
    "    for j in range(1, 1000000000):\n",
    "        # print(s1)\n",
    "        if len(s1) == 0:\n",
    "            break\n",
    "        if f(s1[0], s1) != j:\n",
    "            break\n",
    "        s1 = s1[j:]\n",
    "        n += j\n",
    "    # print('--------------------')\n",
    "    m = max(m, n)\n",
    "print(m)"
   ]
  }
 ],
 "metadata": {
  "kernelspec": {
   "display_name": "Python 3",
   "language": "python",
   "name": "python3"
  },
  "language_info": {
   "codemirror_mode": {
    "name": "ipython",
    "version": 3
   },
   "file_extension": ".py",
   "mimetype": "text/x-python",
   "name": "python",
   "nbconvert_exporter": "python",
   "pygments_lexer": "ipython3",
   "version": "3.10.6"
  },
  "orig_nbformat": 4
 },
 "nbformat": 4,
 "nbformat_minor": 2
}
