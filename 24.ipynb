{
 "cells": [
  {
   "attachments": {},
   "cell_type": "markdown",
   "metadata": {},
   "source": [
    "№ 7624 Досрочная волна 2023 (Уровень: Базовый)\n",
    "\n",
    "Текстовый файл состоит из прописных символов латинских букв.\n",
    "\n",
    "Определите максимальное количество подряд идущих символов в прилагаемом файле, среди которых не содержится два символа из набора букв X, Y и Z (с учётом повторений), стоящих рядом.\n",
    "\n",
    "Для выполнения этого задания следует написать программу."
   ]
  },
  {
   "cell_type": "code",
   "execution_count": 5,
   "metadata": {},
   "outputs": [
    {
     "name": "stdout",
     "output_type": "stream",
     "text": [
      "786\n"
     ]
    }
   ],
   "source": [
    "with open('24_7624.txt') as f:\n",
    "    s = f.readline()\n",
    "\n",
    "    k = 0 \n",
    "    m = 0\n",
    "    for i, a in enumerate(s):\n",
    "        if a in 'XYZ':\n",
    "            if i > 0 and s[i-1] in 'XYZ':\n",
    "                m = max(m, k)\n",
    "                k = 0\n",
    "        k += 1\n",
    "\n",
    "    print(m)"
   ]
  },
  {
   "attachments": {},
   "cell_type": "markdown",
   "metadata": {},
   "source": [
    "\t\n",
    "№ 7356 (Уровень: Средний)\n",
    "(Л. Шастин) Текстовый файл состоит из символов A, C, D, F и O. \n",
    "\n",
    "Определите максимальное количество идущих подряд символов, среди которых не более 5 пар вида \n",
    "\n",
    "согласная + гласная  в прилагаемом файле. \n",
    "\n",
    "Для выполнения этого задания следует написать программу."
   ]
  },
  {
   "cell_type": "code",
   "execution_count": 9,
   "metadata": {},
   "outputs": [
    {
     "name": "stdout",
     "output_type": "stream",
     "text": [
      "23\n"
     ]
    }
   ],
   "source": [
    "with open('24_7356.txt') as f:\n",
    "    s = f.readline()\n",
    "\n",
    "    n = 0 # кол-во пар\n",
    "    k = 0 #длина подстроки\n",
    "    m = 0 #максимальное значение\n",
    "\n",
    "    for i, a in enumerate(s):\n",
    "        if a in 'AO':\n",
    "            if i > 0 and s[i-1] in 'CDF':\n",
    "                n += 1\n",
    "                if n == 6:\n",
    "                    m = max(m, k-1)\n",
    "                    k = 1\n",
    "                    n = 1\n",
    "        k += 1\n",
    "\n",
    "    print(m)"
   ]
  },
  {
   "cell_type": "code",
   "execution_count": 34,
   "metadata": {},
   "outputs": [
    {
     "name": "stdout",
     "output_type": "stream",
     "text": [
      "27\n"
     ]
    }
   ],
   "source": [
    "with open('24_7356.txt') as f:\n",
    "    s = f.readline()\n",
    "\n",
    "    s = s.replace('CA', '.').replace('DA', '.').replace('FA', '.').replace('CO', '.').replace('DO', '.').replace('FO', '.')\n",
    "\n",
    "    m = 0\n",
    "    for i in range(len(s)):\n",
    "        k = 0\n",
    "        n = 0\n",
    "        for j in range(i, len(s)):\n",
    "            if s[j] == '.':\n",
    "                n += 1\n",
    "            k += 1\n",
    "            if n == 6:\n",
    "                break\n",
    "\n",
    "        m = max(m, k + 6)\n",
    "\n",
    "    print(m)"
   ]
  },
  {
   "attachments": {},
   "cell_type": "markdown",
   "metadata": {},
   "source": [
    "\t\n",
    "№ 5444 Джобс 21.12.22 (Уровень: Средний)\n",
    "Текстовый файл содержит строку из символов A, B, C, D, E, F.\n",
    "\n",
    "Найдите максимальную длину подстроки, которая состоит из подряд идущих троек одинаковых символов.\n",
    "\n",
    "\n",
    "Например, в строке BBCDDDEEEFGGGEEEDDDDKKK такая подстрока GGGEEEDDD. Следовательно, ответ будет 9."
   ]
  },
  {
   "cell_type": "code",
   "execution_count": 42,
   "metadata": {},
   "outputs": [
    {
     "name": "stdout",
     "output_type": "stream",
     "text": [
      "15\n"
     ]
    }
   ],
   "source": [
    "s = open('24_5444.txt').readline()\n",
    "\n",
    "l = ['AAA', 'BBB', 'CCC', 'DDD', 'EEE', 'FFF', 'GGG']\n",
    "\n",
    "m = 0\n",
    "\n",
    "for j in range(i, len(s) - 2):\n",
    "    if s[j:j+3] in l:\n",
    "        # print(s[j:j+3])\n",
    "        n = 1\n",
    "        for k in range(j+3, len(s) - 2, 3):\n",
    "            if s[k:k+3] in l:\n",
    "                # print(s[k:k+3])\n",
    "                n += 1\n",
    "            else:\n",
    "                break\n",
    "        m = max(m, n)\n",
    "\n",
    "print(3 * m)"
   ]
  }
 ],
 "metadata": {
  "kernelspec": {
   "display_name": "Python 3",
   "language": "python",
   "name": "python3"
  },
  "language_info": {
   "codemirror_mode": {
    "name": "ipython",
    "version": 3
   },
   "file_extension": ".py",
   "mimetype": "text/x-python",
   "name": "python",
   "nbconvert_exporter": "python",
   "pygments_lexer": "ipython3",
   "version": "3.10.6"
  },
  "orig_nbformat": 4
 },
 "nbformat": 4,
 "nbformat_minor": 2
}
