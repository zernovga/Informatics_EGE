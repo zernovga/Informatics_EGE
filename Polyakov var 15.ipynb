{
 "cells": [
  {
   "attachments": {
    "image.png": {
     "image/png": "[encoded data removed]"
    }
   },
   "cell_type": "markdown",
   "metadata": {},
   "source": [
    "Задание 2 (А. Богданов) \n",
    "Логическая функция F задаётся выражением (¬a → b) ∧ (b ≡ ¬c) ∧ ¬d. На рисунке приведён частично заполненный фрагмент таблицы истинности функции F, содержащий неповторяющиеся наборы аргументов, при которых функция F истинна. \n",
    "\n",
    "![image.png](attachment:image.png)\n",
    "\n",
    "Определите, какому столбцу таблицы истинности функции F соответствует каждая из переменных a, b, c, d.\n",
    "В ответе напишите буквы a, b, c, d в том порядке, в котором идут соответствующие им столбцы. Буквы в ответе пишите подряд, никаких разделителей между буквами ставить не нужно."
   ]
  },
  {
   "cell_type": "code",
   "execution_count": 3,
   "metadata": {},
   "outputs": [
    {
     "name": "stdout",
     "output_type": "stream",
     "text": [
      "a b c d\n",
      "0 1 0 0\n",
      "1 0 1 0\n",
      "1 1 0 0\n"
     ]
    },
    {
     "data": {
      "text/plain": [
       "'bacd'"
      ]
     },
     "execution_count": 3,
     "metadata": {},
     "output_type": "execute_result"
    }
   ],
   "source": [
    "print('a b c d')\n",
    "for a in range(2):\n",
    "    for b in range(2):\n",
    "        for c in range(2):\n",
    "            for d in range(2):\n",
    "                if ((not a) <= b) and (b == (not c)) and (not d):\n",
    "                    print(a, b, c, d)\n",
    "\n",
    "'bacd'"
   ]
  },
  {
   "attachments": {},
   "cell_type": "markdown",
   "metadata": {},
   "source": [
    "Задание 4\n",
    "\n",
    "Все заглавные буквы русского алфавита закодированы неравномерным двоичным кодом, для которого выполняется условие Фано: никакое кодовое слово не совпадает с началом другого кодового слова. Известно, что слову СКОЛОК соответствует код 11101001000001. Какой код соответствует слову ЛОСК?\n",
    "\n",
    "с   к  о  л   о  к\n",
    "\n",
    "111 01 00 100 00 01 -> 1000011101"
   ]
  },
  {
   "attachments": {},
   "cell_type": "markdown",
   "metadata": {},
   "source": [
    "Задание 5\n",
    "\n",
    "На вход алгоритма подаётся натуральное число N. Алгоритм строит по нему новое число R следующим образом.\n",
    "1) Строится двоичная запись числа N.\n",
    "2) К этой записи дописываются ещё несколько разрядов по следующему правилу:\n",
    "\n",
    "   а) если N чётное, то к нему справа приписывается в двоичном виде сумма цифр его двоичной записи;\n",
    "\n",
    "   б) если N нечётное, то к нему справа приписываются два нуля, а слева единица.\n",
    "   \n",
    "Например, двоичная запись числа 1101 будет преобразована в 1110100.\n",
    "\n",
    "Полученная таким образом запись (в ней как минимум на один разряд больше, чем в записи исходного числа N) является двоичной записью искомого числа R.\n",
    "\n",
    "Сколько существует различных чисел N, для которых результат работы данного алгоритма принадлежит отрезку [500; 700]?"
   ]
  },
  {
   "cell_type": "code",
   "execution_count": 11,
   "metadata": {},
   "outputs": [
    {
     "name": "stdout",
     "output_type": "stream",
     "text": [
      "ans: 20\n"
     ]
    }
   ],
   "source": [
    "c = 0\n",
    "for n in range(100000):\n",
    "    b = bin(n)[2:]\n",
    "    if n % 2 == 0:\n",
    "        b += bin(sum([int(i) for i in b]))[2:]\n",
    "    else:\n",
    "        b = '1' + b + '00'\n",
    "    r = int(b, 2)\n",
    "    # print(b, r)\n",
    "    if 500 <= r <= 700: c += 1 \n",
    "print('ans:', c)"
   ]
  },
  {
   "attachments": {
    "image.png": {
     "image/png": "[encoded data removed]"
    }
   },
   "cell_type": "markdown",
   "metadata": {},
   "source": [
    "Задание 6\n",
    "\n",
    "(М. Ишимов) Исполнитель Черепаха действует на плоскости с декартовой системой координат. В начальный момент Черепаха находится в начале координат, её голова направлена вдоль положительного направления оси ординат, хвост опущен. При опущенном хвосте Черепаха оставляет на поле след в виде линии. В каждый конкретный момент известно положение исполнителя и направление его движения. У исполнителя существует две команды: Вперёд n (где n – целое число), вызывающая передвижение Черепахи на n единиц в том направлении, куда указывает её голова, и Направо m (где m – целое число), вызывающая изменение направления движения на m градусов по часовой стрелке. Запись\n",
    "\n",
    "Повтори k [Команда1 Команда2 … КомандаS]\n",
    "\n",
    "означает, что последовательность из S команд повторится k раз. Черепахе был дан для исполнения следующий алгоритм:\n",
    "\n",
    "Повтори 11 [Вперёд 4 Направо 60]\n",
    "\n",
    "Определите, сколько точек с целочисленными положительными координатами будут находиться внутри области, ограниченной линией, заданной данным алгоритмом. Точки на линии учитывать не следует.\n",
    "\n",
    "![image.png](attachment:image.png)"
   ]
  },
  {
   "attachments": {},
   "cell_type": "markdown",
   "metadata": {},
   "source": [
    "Задание 7\n",
    "\n",
    "Для хранения произвольного растрового изображения размером 800x630 пикселей отведено 270 Кбайт памяти без учёта размера заголовка файла. Для кодирования цвета каждого пикселя используется одинаковое количество бит, коды пикселей записываются в файл один за другим без промежутков. При сохранении данные сжимаются, размер итогового файла после сжатия становится на 35% меньше исходного. Какое максимальное количество цветов можно использовать в изображении?"
   ]
  },
  {
   "cell_type": "code",
   "execution_count": 17,
   "metadata": {},
   "outputs": [
    {
     "data": {
      "text/plain": [
       "64"
      ]
     },
     "execution_count": 17,
     "metadata": {},
     "output_type": "execute_result"
    }
   ],
   "source": [
    "2 ** int((270 * 1024 * 8) / (0.65 * 800 * 630))"
   ]
  },
  {
   "attachments": {},
   "cell_type": "markdown",
   "metadata": {},
   "source": [
    "Задание 8\n",
    "\n",
    "(А. Богданов) Оля составляет слова перестановкой букв слова СПОРТЛОТО, оставляя только слова с различными буквами в начале и в конце. Сколько различных слов может составить Оля?"
   ]
  },
  {
   "cell_type": "code",
   "execution_count": 28,
   "metadata": {},
   "outputs": [
    {
     "data": {
      "text/plain": [
       "26880"
      ]
     },
     "execution_count": 28,
     "metadata": {},
     "output_type": "execute_result"
    }
   ],
   "source": [
    "from itertools import permutations\n",
    "\n",
    "m = set([i for i in list(permutations('СПОРТЛОТО')) if i[0] != i[-1]])\n",
    "\n",
    "len(m)"
   ]
  },
  {
   "attachments": {},
   "cell_type": "markdown",
   "metadata": {},
   "source": [
    "Задание 9\n",
    "\n",
    "(А. Калинин) В файле электронной таблицы 9-162.xls в каждой строке содержатся четыре натуральных числа. Определите количество строк таблицы, содержащих числа, для которых выполнены оба условия:\n",
    "\n",
    "– куб максимального числа не меньше, чем удвоенное произведение трёх других чисел;\n",
    "\n",
    "– все числа больше 10."
   ]
  },
  {
   "cell_type": "code",
   "execution_count": 77,
   "metadata": {},
   "outputs": [
    {
     "name": "stdout",
     "output_type": "stream",
     "text": [
      "1820\n"
     ]
    }
   ],
   "source": [
    "s = [list(map(int, i.split(';'))) for i in open('9-162.csv').readlines()]\n",
    "\n",
    "ans = 0\n",
    "for a in s:\n",
    "    if ((max(a) ** 3) >= (2 * (a[0] * a[1] * a[2] * a[3] / max(a)))) and all([i>10 for i in a]):\n",
    "        ans += 1 \n",
    "print(ans)"
   ]
  },
  {
   "attachments": {},
   "cell_type": "markdown",
   "metadata": {},
   "source": [
    "Задание 11\n",
    "\n",
    "При регистрации в компьютерной системе каждому пользователю присваивается идентификатор фиксированной длины, состоящий из двух частей. Первая часть включает **9 заглавных латинских букв**; каждый символ кодируется отдельно с использованием минимально возможного количества битов. Вторая часть – **целое число от 0001 до 4000**, для его кодирования используется минимальное число бит. Для кодирование полного идентификатора выделяется **целое число байтов**. Кроме того, для каждого пользователя хранятся дополнительные сведения, которые занимают **11 байт**. Определите максимальное число пользователей, данные которых можно сохранить, используя **1000 байтов** памяти."
   ]
  },
  {
   "cell_type": "code",
   "execution_count": 48,
   "metadata": {},
   "outputs": [
    {
     "data": {
      "text/plain": [
       "(45, 15, 60, 8, 52)"
      ]
     },
     "execution_count": 48,
     "metadata": {},
     "output_type": "execute_result"
    }
   ],
   "source": [
    "import math as m\n",
    "\n",
    "p1 = 9 * m.ceil(m.log2(27))\n",
    "p2 = m.ceil(m.log2(5)) + 2 * m.ceil(m.log2(10)) + m.ceil(m.log2(9))\n",
    "\n",
    "p = m.ceil((p1 + p2) / 8)\n",
    "\n",
    "ans = 1000 // (p + 11)\n",
    "\n",
    "p1, p2, p1+p2, p, ans"
   ]
  },
  {
   "attachments": {},
   "cell_type": "markdown",
   "metadata": {},
   "source": [
    "Задание 12\n",
    "\n",
    "Исполнитель Редактор получает на вход строку цифр и преобразовывает её. Редактор может выполнять две команды, в обеих командах v и w обозначают цепочки символов.\n",
    "\n",
    "1. заменить (v, w) \n",
    "2. нашлось (v)\n",
    "\n",
    "Первая команда заменяет в строке первое слева вхождение цепочки v на цепочку w. Если цепочки v в строке нет, эта команда не изменяет строку. Вторая команда проверяет, встречается ли цепочка v в строке исполнителя Редактор.\n",
    "Дана программа для исполнителя Редактор:\n",
    "\n",
    "НАЧАЛО\n",
    "\n",
    "ПОКА НЕ нашлось(00)\n",
    "\n",
    "  заменить(01, 21022)\n",
    "\n",
    "  заменить(02, 310)\n",
    "  \n",
    "  заменить(03, 230112)\n",
    "\n",
    "КОНЕЦ ПОКА\n",
    "\n",
    "КОНЕЦ\n",
    "\n",
    "Известно, что исходная строка начиналась с нуля и заканчивалась нулём, а между ними были только цифры 1, 2 и 3. После выполнения данной программы получилась строка, содержащая 104 единицы, 39 двоек и 83 тройки. Сколько цифр было в исходной строке?"
   ]
  },
  {
   "cell_type": "code",
   "execution_count": 54,
   "metadata": {},
   "outputs": [
    {
     "name": "stderr",
     "output_type": "stream",
     "text": [
      "100%|██████████| 9999999/9999999 [00:34<00:00, 293836.60it/s]\n"
     ]
    }
   ],
   "source": [
    "import tqdm\n",
    "\n",
    "for i in tqdm.trange(1, 10000000):\n",
    "    n = ''\n",
    "    while i > 0 and '0' not in n:\n",
    "        n += str(i % 4)\n",
    "        i //= 4\n",
    "    n = n[::-1]\n",
    "    if '0' in n:\n",
    "        continue\n",
    "    s = '0' + n + '0'\n",
    "    ans = len(s)\n",
    "    while '00' not in s:\n",
    "        s = s.replace('01', '21022', 1)\n",
    "        s = s.replace('02', '310', 1)\n",
    "        s = s.replace('03', '230112', 1)\n",
    "    if s.count('1') == 104 and s.count('2') == 39 and s.count('3') == 83:\n",
    "        print(ans)\n",
    "        break\n"
   ]
  },
  {
   "attachments": {},
   "cell_type": "markdown",
   "metadata": {},
   "source": [
    "Задание 14\n",
    "(А. Богданов) Операнды арифметического уравнения записаны в разных системах счисления.\n",
    "\n",
    "$19x61₁₂ + 3393x₁₇ = 60x05₁₅$\n",
    "\n",
    "В записи чисел переменной x обозначена неизвестная цифра. Определите наименьшее значение x, при котором данное уравнение верно. В ответе укажите значение правой части уравнения в десятичной системе счисления. Основание системы счисления в ответе указывать не нужно."
   ]
  },
  {
   "cell_type": "code",
   "execution_count": 55,
   "metadata": {},
   "outputs": [
    {
     "name": "stdout",
     "output_type": "stream",
     "text": [
      "305330\n"
     ]
    }
   ],
   "source": [
    "for x in '0123456789ab':\n",
    "    if int(f\"19{x}61\", 12) + int(f\"3393{x}\", 17) == int(f\"60{x}05\", 15):\n",
    "        print(int(f\"60{x}05\", 15))\n",
    "        break"
   ]
  },
  {
   "attachments": {},
   "cell_type": "markdown",
   "metadata": {},
   "source": [
    "**Задание 15**\n",
    "\n",
    "Обозначим через **ДЕЛ(n, m)** утверждение «натуральное число n делится без остатка на натуральное число m». Для какого наименьшего натурального числа А формула\n",
    "\n",
    "$(ДЕЛ(x, 250) → ¬ДЕЛ(x, 10)) ∨ (3x + 2A ≥ 1000)$\n",
    "\n",
    "тождественно истинна (то есть принимает значение 1 при любом натуральном значении переменной х)?"
   ]
  },
  {
   "cell_type": "code",
   "execution_count": 59,
   "metadata": {},
   "outputs": [
    {
     "name": "stdout",
     "output_type": "stream",
     "text": [
      "125\n"
     ]
    }
   ],
   "source": [
    "for a in range(1, 1000000):\n",
    "    for x in range(1, 100000000):\n",
    "        if not (((x % 250 == 0) <= (not (x % 50 == 0))) or ((3 * x + 2 * a) >= 1000)):\n",
    "            break\n",
    "    else:\n",
    "        print(a)\n",
    "        break"
   ]
  },
  {
   "attachments": {},
   "cell_type": "markdown",
   "metadata": {},
   "source": [
    "**Задание 16**\n",
    "\n",
    "(Е. Джобс) Алгоритм вычисления значения функции F(n), где n – целое неотрицательное число, задан следующими соотношениями:\n",
    "\n",
    "$F(n) = 1, если n < 3$\n",
    "\n",
    "$F(n) = F(n – 2) - F(n – 1), если n > 2 и число n чётное,$\n",
    "\n",
    "$F(n) = F(n – 2) - F(n – 3), если n > 2 и число n нечётное.$\n",
    "\n",
    "Определите значение F(50)."
   ]
  },
  {
   "cell_type": "code",
   "execution_count": 63,
   "metadata": {},
   "outputs": [
    {
     "data": {
      "text/plain": [
       "8388608"
      ]
     },
     "execution_count": 63,
     "metadata": {},
     "output_type": "execute_result"
    }
   ],
   "source": [
    "f = [0 for _ in range(100)]\n",
    "\n",
    "for n in range(len(f)):\n",
    "    if n < 3: f[n] = 1\n",
    "    elif n % 2 == 0: f[n] = f[n-2] - f[n-1]\n",
    "    else: f[n] = f[n-2] - f[n-3]\n",
    "\n",
    "f[50]"
   ]
  },
  {
   "attachments": {},
   "cell_type": "markdown",
   "metadata": {},
   "source": [
    "**Задание 17**\n",
    "\n",
    "(М. Шагитов) В файле 17-328.txt содержится последовательность целых чисел. Элементы последовательности – четырёхзначные натуральные числа. Найдите все тройки элементов последовательности, для которых **восьмеричная запись суммы любой пары чисел тройки не содержит цифру 7, а сумма всех чисел тройки меньше, чем среднее арифметическое всех нечётных чисел в файле**. В ответе запишите количество найденных троек, затем максимальную из сумм элементов таких троек. В данной задаче **под тройкой подразумевается три идущих подряд элемента последовательности**."
   ]
  },
  {
   "cell_type": "code",
   "execution_count": 75,
   "metadata": {},
   "outputs": [
    {
     "name": "stdout",
     "output_type": "stream",
     "text": [
      "25 5750\n"
     ]
    }
   ],
   "source": [
    "s = list(map(int, open('17-328.txt').readlines()))\n",
    "\n",
    "a = [i for i in s if i % 2 == 1]\n",
    "\n",
    "a = sum(a) / len(a)\n",
    "\n",
    "ans = []\n",
    "for i in range(len(s)-2):\n",
    "    if sum(s[i:i+3]) < a and \\\n",
    "        '7' not in oct(s[i] + s[i+1]) and \\\n",
    "        '7' not in oct(s[i] + s[i+2]) and \\\n",
    "        '7' not in oct(s[i+2] + s[i+1]):\n",
    "        ans += [s[i:i+3]]\n",
    "\n",
    "# print(*ans, sep='\\n')\n",
    "print(len(ans), sum(max(ans, key=lambda x: sum(x))))"
   ]
  },
  {
   "cell_type": "markdown",
   "metadata": {},
   "source": []
  }
 ],
 "metadata": {
  "kernelspec": {
   "display_name": "Python 3",
   "language": "python",
   "name": "python3"
  },
  "language_info": {
   "codemirror_mode": {
    "name": "ipython",
    "version": 3
   },
   "file_extension": ".py",
   "mimetype": "text/x-python",
   "name": "python",
   "nbconvert_exporter": "python",
   "pygments_lexer": "ipython3",
   "version": "3.10.6"
  },
  "orig_nbformat": 4
 },
 "nbformat": 4,
 "nbformat_minor": 2
}
